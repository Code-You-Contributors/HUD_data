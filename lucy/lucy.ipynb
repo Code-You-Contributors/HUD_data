{
 "cells": [
  {
   "cell_type": "code",
   "execution_count": 1,
   "id": "b35732a0",
   "metadata": {},
   "outputs": [
    {
     "name": "stdout",
     "output_type": "stream",
     "text": [
      "/Users/lucycollins/Desktop/myProjects/HUD_data/venv/bin/python\n"
     ]
    }
   ],
   "source": [
    "!which python\n"
   ]
  },
  {
   "cell_type": "code",
   "execution_count": 3,
   "id": "eef40f0b",
   "metadata": {},
   "outputs": [
    {
     "data": {
      "text/html": [
       "<div>\n",
       "<style scoped>\n",
       "    .dataframe tbody tr th:only-of-type {\n",
       "        vertical-align: middle;\n",
       "    }\n",
       "\n",
       "    .dataframe tbody tr th {\n",
       "        vertical-align: top;\n",
       "    }\n",
       "\n",
       "    .dataframe thead th {\n",
       "        text-align: right;\n",
       "    }\n",
       "</style>\n",
       "<table border=\"1\" class=\"dataframe\">\n",
       "  <thead>\n",
       "    <tr style=\"text-align: right;\">\n",
       "      <th></th>\n",
       "      <th>MealID</th>\n",
       "      <th>Date</th>\n",
       "      <th>BREADFST_SERV</th>\n",
       "      <th>LUNCH_SERV</th>\n",
       "      <th>SNACK_SERV</th>\n",
       "      <th>Site</th>\n",
       "      <th>SiteAddress</th>\n",
       "      <th>SiteZipcode</th>\n",
       "      <th>ObjectId</th>\n",
       "    </tr>\n",
       "  </thead>\n",
       "  <tbody>\n",
       "    <tr>\n",
       "      <th>0</th>\n",
       "      <td>301</td>\n",
       "      <td>6/11/09 4:00</td>\n",
       "      <td>0.0</td>\n",
       "      <td>21</td>\n",
       "      <td>25</td>\n",
       "      <td>VICTORY CHRISTIAN CDC</td>\n",
       "      <td>1410 DIXIE HIGHWAY</td>\n",
       "      <td>40210</td>\n",
       "      <td>1</td>\n",
       "    </tr>\n",
       "    <tr>\n",
       "      <th>1</th>\n",
       "      <td>302</td>\n",
       "      <td>6/11/09 4:00</td>\n",
       "      <td>0.0</td>\n",
       "      <td>22</td>\n",
       "      <td>0</td>\n",
       "      <td>WALNUT ST ACTIVITIES</td>\n",
       "      <td>1143 S. 3RD ST.</td>\n",
       "      <td>40203</td>\n",
       "      <td>2</td>\n",
       "    </tr>\n",
       "    <tr>\n",
       "      <th>2</th>\n",
       "      <td>303</td>\n",
       "      <td>6/11/09 4:00</td>\n",
       "      <td>0.0</td>\n",
       "      <td>22</td>\n",
       "      <td>20</td>\n",
       "      <td>REFUGE IN KENTUCKY</td>\n",
       "      <td>207 S. Hancock</td>\n",
       "      <td>40202</td>\n",
       "      <td>3</td>\n",
       "    </tr>\n",
       "    <tr>\n",
       "      <th>3</th>\n",
       "      <td>304</td>\n",
       "      <td>6/11/09 4:00</td>\n",
       "      <td>0.0</td>\n",
       "      <td>23</td>\n",
       "      <td>26</td>\n",
       "      <td>REDEEMED CHRISTIAN CHURCH</td>\n",
       "      <td>3725 RIVER PARK DRIVE</td>\n",
       "      <td>40211</td>\n",
       "      <td>4</td>\n",
       "    </tr>\n",
       "    <tr>\n",
       "      <th>4</th>\n",
       "      <td>305</td>\n",
       "      <td>6/11/09 4:00</td>\n",
       "      <td>0.0</td>\n",
       "      <td>27</td>\n",
       "      <td>0</td>\n",
       "      <td>NEW JERUSALEM SPCL MNSTRY</td>\n",
       "      <td>2973 WILSON AVENUE</td>\n",
       "      <td>40211</td>\n",
       "      <td>5</td>\n",
       "    </tr>\n",
       "  </tbody>\n",
       "</table>\n",
       "</div>"
      ],
      "text/plain": [
       "   MealID          Date  BREADFST_SERV  LUNCH_SERV  SNACK_SERV  \\\n",
       "0     301  6/11/09 4:00            0.0          21          25   \n",
       "1     302  6/11/09 4:00            0.0          22           0   \n",
       "2     303  6/11/09 4:00            0.0          22          20   \n",
       "3     304  6/11/09 4:00            0.0          23          26   \n",
       "4     305  6/11/09 4:00            0.0          27           0   \n",
       "\n",
       "                        Site            SiteAddress SiteZipcode  ObjectId  \n",
       "0      VICTORY CHRISTIAN CDC     1410 DIXIE HIGHWAY       40210         1  \n",
       "1       WALNUT ST ACTIVITIES        1143 S. 3RD ST.       40203         2  \n",
       "2         REFUGE IN KENTUCKY         207 S. Hancock       40202         3  \n",
       "3  REDEEMED CHRISTIAN CHURCH  3725 RIVER PARK DRIVE       40211         4  \n",
       "4  NEW JERUSALEM SPCL MNSTRY     2973 WILSON AVENUE       40211         5  "
      ]
     },
     "execution_count": 3,
     "metadata": {},
     "output_type": "execute_result"
    }
   ],
   "source": [
    "import pandas as pd\n",
    "df = pd.read_csv(\"Louisville_Metro_KY_Meals_Served_Summary.csv\")\n",
    "df.head()"
   ]
  },
  {
   "cell_type": "markdown",
   "id": "39d75ad9",
   "metadata": {},
   "source": [
    "### **Table of Contents**\n",
    "* [Keep this file in your project](#keep-this-file-in-your-project)"
   ]
  },
  {
   "cell_type": "code",
   "execution_count": null,
   "id": "ef9db34c",
   "metadata": {},
   "outputs": [],
   "source": []
  },
  {
   "cell_type": "markdown",
   "id": "14fd6a92",
   "metadata": {},
   "source": [
    "# Keep this file in your project\n",
    "\n",
    "keep at the bottom of your project\n",
    "\n",
    "We will go over it later, its a script that will generate a markdown table of contents based on your headings created here in markdown. "
   ]
  },
  {
   "cell_type": "code",
   "execution_count": 1,
   "id": "973dcdce",
   "metadata": {},
   "outputs": [
    {
     "name": "stdout",
     "output_type": "stream",
     "text": [
      "\n",
      "--- ✅ Copy the Markdown below and pasteit into a new markdown cell ---\n",
      "\n",
      "### **Table of Contents**\n",
      "* [Keep this file in your project](#keep-this-file-in-your-project)\n",
      "\n"
     ]
    }
   ],
   "source": [
    "import json\n",
    "import os\n",
    "\n",
    "\n",
    "def generate_toc_from_notebook(notebook_path):\n",
    "    \"\"\"\n",
    "    Parses a local .ipynb file and generates Markdown for a Table of Contents.\n",
    "    \"\"\"\n",
    "    if not os.path.isfile(notebook_path):\n",
    "        print(f\"❌ Error: File not found at '{notebook_path}'\")\n",
    "        return\n",
    "\n",
    "    with open(notebook_path, 'r', encoding='utf-8') as f:\n",
    "        notebook = json.load(f)\n",
    "\n",
    "    toc_markdown = \"### **Table of Contents**\\n\"\n",
    "    for cell in notebook.get('cells', []):\n",
    "        if cell.get('cell_type') == 'markdown':\n",
    "            for line in cell.get('source', []):\n",
    "                if line.strip().startswith('#'):\n",
    "                    level = line.count('#')\n",
    "                    title = line.strip('#').strip()\n",
    "                    link = title.lower().replace(' ', '-').strip('-.()')\n",
    "                    indent = '  ' * (level - 1)\n",
    "                    toc_markdown += f\"{indent}* [{title}](#{link})\\n\"\n",
    "\n",
    "    print(\"\\n--- ✅ Copy the Markdown below and paste\"\n",
    "          \"it into a new markdown cell ---\\n\")\n",
    "    print(toc_markdown)\n",
    "\n",
    "\n",
    "if __name__ == \"__main__\":\n",
    "    # Example usage\n",
    "    notebook_path = 'lucy.ipynb'  # Replace with your notebook path\n",
    "    generate_toc_from_notebook(notebook_path)"
   ]
  }
 ],
 "metadata": {
  "kernelspec": {
   "display_name": "venv",
   "language": "python",
   "name": "python3"
  },
  "language_info": {
   "codemirror_mode": {
    "name": "ipython",
    "version": 3
   },
   "file_extension": ".py",
   "mimetype": "text/x-python",
   "name": "python",
   "nbconvert_exporter": "python",
   "pygments_lexer": "ipython3",
   "version": "3.14.0"
  }
 },
 "nbformat": 4,
 "nbformat_minor": 5
}
